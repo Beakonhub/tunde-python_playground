{
  "nbformat": 4,
  "nbformat_minor": 0,
  "metadata": {
    "colab": {
      "provenance": [],
      "authorship_tag": "ABX9TyPpm3PLRhL9Y2uV3PyXOutU",
      "include_colab_link": true
    },
    "kernelspec": {
      "name": "python3",
      "display_name": "Python 3"
    },
    "language_info": {
      "name": "python"
    }
  },
  "cells": [
    {
      "cell_type": "markdown",
      "metadata": {
        "id": "view-in-github",
        "colab_type": "text"
      },
      "source": [
        "<a href=\"https://colab.research.google.com/github/Beakonhub/tunde-python_playground/blob/main/For_Loops.ipynb\" target=\"_parent\"><img src=\"https://colab.research.google.com/assets/colab-badge.svg\" alt=\"Open In Colab\"/></a>"
      ]
    },
    {
      "cell_type": "code",
      "execution_count": 41,
      "metadata": {
        "id": "xyoOGALQ_hi-"
      },
      "outputs": [],
      "source": [
        "column_header = ['apps', 'price', 'denomination', 'rating_count', 'rating']\n",
        "first_row = ['X', 0.5, 'GBP', 6899939, 4.7]\n",
        "second_row = ['Instagram', 0.0, 'GBP', 7837737, 3.4]\n",
        "third_row = ['Minecraft', 0.7, 'GBP', 10006745, 4.1]\n",
        "fourth_row = ['Vampire Survivors', 1.2, 'GBP', 23676544, 4.6]\n",
        "fiveth_row = ['Balatro', 2.0, 'GBP', 9837773773, 5.0]\n",
        "\n"
      ]
    },
    {
      "cell_type": "code",
      "source": [
        "app_data = [first_row,second_row,third_row, fourth_row, fiveth_row]\n",
        "\n",
        "for app in app_data:\n",
        "    print(app)"
      ],
      "metadata": {
        "colab": {
          "base_uri": "https://localhost:8080/"
        },
        "id": "QMGzX7PaBpRu",
        "outputId": "32e3fb07-c2f1-416a-9e1a-9f6b40e1d2da"
      },
      "execution_count": 42,
      "outputs": [
        {
          "output_type": "stream",
          "name": "stdout",
          "text": [
            "['X', 0.5, 'GBP', 6899939, 4.7]\n",
            "['Instagram', 0.0, 'GBP', 7837737, 3.4]\n",
            "['Minecraft', 0.7, 'GBP', 10006745, 4.1]\n",
            "['Vampire Survivors', 1.2, 'GBP', 23676544, 4.6]\n",
            "['Balatro', 2.0, 'GBP', 9837773773, 5.0]\n"
          ]
        }
      ]
    },
    {
      "cell_type": "markdown",
      "source": [
        "## Get all the rating_count"
      ],
      "metadata": {
        "id": "DmHwjc9NYxIX"
      }
    },
    {
      "cell_type": "code",
      "source": [
        "for app in app_data:\n",
        "    rating_count = app[3]\n",
        "    print(rating_count)"
      ],
      "metadata": {
        "colab": {
          "base_uri": "https://localhost:8080/"
        },
        "id": "baJUec2zCREW",
        "outputId": "8fe48621-4919-4366-e1f8-a1ac18e23e83"
      },
      "execution_count": 44,
      "outputs": [
        {
          "output_type": "stream",
          "name": "stdout",
          "text": [
            "6899939\n",
            "7837737\n",
            "10006745\n",
            "23676544\n",
            "9837773773\n"
          ]
        }
      ]
    },
    {
      "cell_type": "markdown",
      "source": [
        "### Get all total ratings\n",
        "- Initialise rating_sum variable that will hold all total rating\n",
        "- Loop through through the app_data in thrid row\n",
        "- calculate the the ratig_sum"
      ],
      "metadata": {
        "id": "JEL26Ed4Y3Qy"
      }
    },
    {
      "cell_type": "code",
      "source": [
        "rating_sum = 0\n",
        "for app in app_data:\n",
        "    rating_count = app[3]\n",
        "    rating_sum = rating_sum + rating_count\n",
        "    print(rating_sum)\n"
      ],
      "metadata": {
        "colab": {
          "base_uri": "https://localhost:8080/"
        },
        "id": "veV3vknfCqWY",
        "outputId": "58920b00-fb94-4901-8007-079b0b11712b"
      },
      "execution_count": 46,
      "outputs": [
        {
          "output_type": "stream",
          "name": "stdout",
          "text": [
            "6899939\n",
            "14737676\n",
            "24744421\n",
            "48420965\n",
            "9886194738\n"
          ]
        }
      ]
    },
    {
      "cell_type": "markdown",
      "source": [
        "### Get the average rating app\n",
        "\n"
      ],
      "metadata": {
        "id": "FeQ8ldWAaZtT"
      }
    },
    {
      "cell_type": "code",
      "source": [
        "rating_sum = 0\n",
        "for app in app_data:\n",
        "    rating = app[-1]\n",
        "    rating_sum = rating_sum + rating\n",
        "average_rating = rating_sum / len(app_data)\n",
        "print(average_rating)\n",
        "\n"
      ],
      "metadata": {
        "colab": {
          "base_uri": "https://localhost:8080/"
        },
        "id": "0oTO0C01C58t",
        "outputId": "3549ca05-237e-4d84-9465-7617b0d2dd95"
      },
      "execution_count": 59,
      "outputs": [
        {
          "output_type": "stream",
          "name": "stdout",
          "text": [
            "4.359999999999999\n"
          ]
        }
      ]
    },
    {
      "cell_type": "markdown",
      "source": [
        "## Open a large dataset - No PANDAS\n"
      ],
      "metadata": {
        "id": "-T1oTmpnbOed"
      }
    },
    {
      "cell_type": "code",
      "source": [
        "from csv import reader\n",
        "opened_file = open('/used_car_listings.csv')\n",
        "read_file = reader(opened_file)\n",
        "apps_data = list(read_file)\n",
        "print(apps_data[:1])\n",
        "print(apps_data[2:5])\n"
      ],
      "metadata": {
        "colab": {
          "base_uri": "https://localhost:8080/"
        },
        "id": "WweVcxlIKvXT",
        "outputId": "4ac893e9-9c1d-43d5-c6e4-aec59c983cfd"
      },
      "execution_count": 48,
      "outputs": [
        {
          "output_type": "stream",
          "name": "stdout",
          "text": [
            "[['listing_id', 'vin', 'make', 'model', 'year', 'trim', 'body_type', 'fuel_type', 'transmission', 'mileage', 'price', 'condition', 'location', 'seller_type', 'features']]\n",
            "[['2', '1S0ZCY536BSCY2864', 'Nissan', 'Rogue', '2024', 'LT', 'Sedan', 'Hybrid', 'Automatic', '16109', '19480.0', 'good', 'Pughtown, CO, US', 'Dealer', 'Alloy Wheels, Android Auto, Lane Keep Assist, Navigation, Panoramic Roof, Parking Sensors, Push Button Start, Wireless Charging'], ['3', 'YFB625BN0RTMZ5590', 'Hyundai', 'i20', '2018', 'XLE', 'Crossover', 'Petrol', 'Automatic', '173239', '4556.0', 'good', 'Satna, HR, India', 'Dealer', 'Alloy Wheels, Bluetooth, Panoramic Roof, Sunroof'], ['4', 'CPMZ4RFN5WYL37096', 'Kia', 'Sportage', '2023', 'EX', 'Hatchback', 'Diesel', 'CVT', '36810', '11536.0', 'fair', '山武市, Osaka, Japan', 'Certified Pre-Owned', 'Alloy Wheels, Bluetooth, Keyless Entry, Navigation, Sunroof, Wireless Charging']]\n"
          ]
        }
      ]
    },
    {
      "cell_type": "markdown",
      "source": [
        "### Get the average price - Convert the price(string) into float\n",
        "- Iterate through the rows of apps_data, skipping the header row.\n",
        "- The price is at index 10 in the apps_data list\n",
        "- Calculate the average price, excluding the header row from the count\n",
        "\n",
        "\n",
        "\n"
      ],
      "metadata": {
        "id": "PP5yITGMa0gD"
      }
    },
    {
      "cell_type": "code",
      "source": [
        "total_price = 0\n",
        "for row in apps_data[1:]:\n",
        "    total_price = total_price + float(row[10])\n",
        "average_price = total_price / (len(apps_data) - 1)\n",
        "print(average_price)"
      ],
      "metadata": {
        "colab": {
          "base_uri": "https://localhost:8080/"
        },
        "id": "_hn7vk0WM5lM",
        "outputId": "f81e5821-de64-48a1-a669-410754904325"
      },
      "execution_count": 55,
      "outputs": [
        {
          "output_type": "stream",
          "name": "stdout",
          "text": [
            "9182.621856866537\n"
          ]
        }
      ]
    },
    {
      "cell_type": "code",
      "metadata": {
        "colab": {
          "base_uri": "https://localhost:8080/"
        },
        "id": "a6ccf7d5",
        "outputId": "301c6b27-3ee9-4362-daf0-931377156cd2"
      },
      "source": [
        "print(apps_data[:1])"
      ],
      "execution_count": 50,
      "outputs": [
        {
          "output_type": "stream",
          "name": "stdout",
          "text": [
            "[['listing_id', 'vin', 'make', 'model', 'year', 'trim', 'body_type', 'fuel_type', 'transmission', 'mileage', 'price', 'condition', 'location', 'seller_type', 'features']]\n"
          ]
        }
      ]
    },
    {
      "cell_type": "markdown",
      "source": [
        "Execute below code by excluding the the header row apps_data[1:]:"
      ],
      "metadata": {
        "id": "wONlH4eES3SL"
      }
    },
    {
      "cell_type": "code",
      "source": [
        "total_price = 0\n",
        "for row in apps_data[1:]:\n",
        "    total_price = total_price + float(row[10])\n",
        "average_price = total_price / (len(apps_data) - 1)\n",
        "print(average_price)"
      ],
      "metadata": {
        "colab": {
          "base_uri": "https://localhost:8080/"
        },
        "id": "ve0X5Me9Lxez",
        "outputId": "4dfb6956-5020-4c36-c249-283753778009"
      },
      "execution_count": 56,
      "outputs": [
        {
          "output_type": "stream",
          "name": "stdout",
          "text": [
            "9182.621856866537\n"
          ]
        }
      ]
    },
    {
      "cell_type": "markdown",
      "source": [
        "Using append() function to add value into the the list.\n",
        "Usage - list.append(item)"
      ],
      "metadata": {
        "id": "5ABWRkxkVd4G"
      }
    },
    {
      "cell_type": "code",
      "source": [
        "total_price = []\n",
        "for row in apps_data[1:]:\n",
        "  price = float(row[10])\n",
        "  total_price.append(price)\n",
        "\n",
        "average_price = sum(total_price) / (len(apps_data) -1)\n",
        "print(average_price)\n"
      ],
      "metadata": {
        "colab": {
          "base_uri": "https://localhost:8080/"
        },
        "id": "xKpUeBy4Se6U",
        "outputId": "31a89e6f-e0e8-4fb7-a714-c6fed72cf134"
      },
      "execution_count": 58,
      "outputs": [
        {
          "output_type": "stream",
          "name": "stdout",
          "text": [
            "9182.621856866537\n"
          ]
        }
      ]
    },
    {
      "cell_type": "code",
      "source": [],
      "metadata": {
        "id": "hCawJkFsYN0h"
      },
      "execution_count": null,
      "outputs": []
    }
  ]
}