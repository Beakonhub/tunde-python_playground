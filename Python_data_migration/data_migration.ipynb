{
  "cells": [
    {
      "cell_type": "code",
      "execution_count": null,
      "id": "3ffe7986-395f-42a5-9803-4a04a650b051",
      "metadata": {
        "colab": {
          "base_uri": "https://localhost:8080/"
        },
        "id": "3ffe7986-395f-42a5-9803-4a04a650b051",
        "outputId": "d84ac269-2391-4dbb-932e-da80c6d30761"
      },
      "outputs": [
        {
          "output_type": "stream",
          "name": "stdout",
          "text": [
            "/content\n",
            "True\n"
          ]
        }
      ],
      "source": [
        "import os\n",
        "import pandas as pd\n",
        "import sqlite3\n",
        "\n",
        "print(os.getcwd())  # Shows your current working directory\n",
        "print(os.path.exists('/content/books.csv'))  # Checks if the file exists"
      ]
    },
    {
      "cell_type": "code",
      "execution_count": null,
      "id": "f17e7f92-fe56-4d52-9fe1-a6e4974c0e88",
      "metadata": {
        "colab": {
          "base_uri": "https://localhost:8080/"
        },
        "id": "f17e7f92-fe56-4d52-9fe1-a6e4974c0e88",
        "outputId": "91df67c4-adce-48c5-ffc6-f005095b843d"
      },
      "outputs": [
        {
          "output_type": "stream",
          "name": "stdout",
          "text": [
            "Extract data....\n",
            "Found 5 rows\n",
            "Cleaning data....\n"
          ]
        }
      ],
      "source": [
        "print('Extract data....')\n",
        "df = pd.read_csv(r'/content/books.csv')\n",
        "print(f\"Found {len(df)} rows\")\n",
        "\n",
        "print('Cleaning data....')"
      ]
    },
    {
      "cell_type": "code",
      "execution_count": null,
      "id": "44cea1ef-94c8-4b46-b85a-3a126a50c8cb",
      "metadata": {
        "id": "44cea1ef-94c8-4b46-b85a-3a126a50c8cb"
      },
      "outputs": [],
      "source": [
        "# Clean title - remove extra spaces\n",
        "df['title'] = df['title'].str.strip()\n"
      ]
    },
    {
      "cell_type": "code",
      "source": [
        "# Fix publish_year: convert to integer, set 0 if invalid/missing\n",
        "df['publish_year'] = pd.to_numeric(df['publish_year'], errors='coerce')\n"
      ],
      "metadata": {
        "id": "ByQzBm9gCQrf"
      },
      "id": "ByQzBm9gCQrf",
      "execution_count": null,
      "outputs": []
    },
    {
      "cell_type": "code",
      "source": [
        "# Fix price: NMust be positive\n",
        "df['price'] = pd.to_numeric(df['price'], errors='coerce').clip(lower=0)"
      ],
      "metadata": {
        "id": "JTB5Pa75C6Bt"
      },
      "id": "JTB5Pa75C6Bt",
      "execution_count": null,
      "outputs": []
    },
    {
      "cell_type": "code",
      "source": [
        "# Drop row with missing Id\n",
        "df = df.dropna(subset=['id'])\n",
        "print(df)"
      ],
      "metadata": {
        "colab": {
          "base_uri": "https://localhost:8080/"
        },
        "id": "IxbOdCRWDb3p",
        "outputId": "90ad7389-42eb-4074-b84a-c6c5cd1505d4"
      },
      "id": "IxbOdCRWDb3p",
      "execution_count": null,
      "outputs": [
        {
          "output_type": "stream",
          "name": "stdout",
          "text": [
            "   id                  title  publish_year  price\n",
            "0   1           Harry Potter        2001.0  29.99\n",
            "1   2          Lord of Rings        1995.0  35.00\n",
            "2   3  To Kill a Mockingbird           NaN  35.00\n",
            "3   4           Harry Potter        2001.0  29.99\n",
            "4   5                    NaN        1984.0  20.00\n"
          ]
        }
      ]
    },
    {
      "cell_type": "code",
      "source": [
        "# Load database\n",
        "print('Load data....')\n",
        "conn = sqlite3.connect('library.db')\n",
        "cursor = conn.cursor()\n"
      ],
      "metadata": {
        "colab": {
          "base_uri": "https://localhost:8080/"
        },
        "id": "dN65wZyPEIF2",
        "outputId": "a7f2e946-c152-4280-d4ea-6924e74d77d3"
      },
      "id": "dN65wZyPEIF2",
      "execution_count": null,
      "outputs": [
        {
          "output_type": "stream",
          "name": "stdout",
          "text": [
            "Load data....\n"
          ]
        }
      ]
    },
    {
      "cell_type": "code",
      "source": [
        "# Create table\n",
        "cursor.execute('''CREATE TABLE IF NOT EXISTS books\n",
        "                  (id INTEGER PRIMARY KEY,\n",
        "                  title TEXT, author TEXT,\n",
        "                  publish_year INTEGER, price REAL)''')\n"
      ],
      "metadata": {
        "colab": {
          "base_uri": "https://localhost:8080/"
        },
        "id": "r2e4jMtTKtgL",
        "outputId": "185ebc3c-5f80-4ff7-a3b2-1462c74120d2"
      },
      "id": "r2e4jMtTKtgL",
      "execution_count": null,
      "outputs": [
        {
          "output_type": "execute_result",
          "data": {
            "text/plain": [
              "<sqlite3.Cursor at 0x78533068b740>"
            ]
          },
          "metadata": {},
          "execution_count": 44
        }
      ]
    },
    {
      "cell_type": "code",
      "source": [
        "df.to_sql('book', conn, if_exists='replace', index=False)\n",
        "conn.commit()\n"
      ],
      "metadata": {
        "id": "wNJ7EV3SLcTW"
      },
      "id": "wNJ7EV3SLcTW",
      "execution_count": null,
      "outputs": []
    },
    {
      "cell_type": "code",
      "source": [
        "# Validate\n",
        "print('Validating....')\n",
        "cursor.execute(\"SELECT COUNT(*) FROM books\")\n",
        "db_count = cursor.fetchall()[0]\n",
        "print(f'Database has: {db_count} rows')\n"
      ],
      "metadata": {
        "colab": {
          "base_uri": "https://localhost:8080/"
        },
        "id": "hL0GBgMoMAmZ",
        "outputId": "dd929042-6e1b-4002-db14-b09c3d0d0249"
      },
      "id": "hL0GBgMoMAmZ",
      "execution_count": null,
      "outputs": [
        {
          "output_type": "stream",
          "name": "stdout",
          "text": [
            "Validating....\n",
            "Database has: (5,) rows\n"
          ]
        }
      ]
    },
    {
      "cell_type": "code",
      "source": [
        "# Check for duplicate\n",
        "cursor.execute(\"SELECT id, COUNT(*) FROM books GROUP BY id HAVING COUNT(*) > 1\")\n",
        "duplicate = cursor.fetchall()\n",
        "if duplicate:\n",
        "  print('Error: Duplicate ID found')\n",
        "else:\n",
        "  print('No duplicate ID found')\n"
      ],
      "metadata": {
        "colab": {
          "base_uri": "https://localhost:8080/"
        },
        "id": "Goq5CKoxMJMR",
        "outputId": "07576973-c128-4466-81cd-e3f3ea62456e"
      },
      "id": "Goq5CKoxMJMR",
      "execution_count": null,
      "outputs": [
        {
          "output_type": "stream",
          "name": "stdout",
          "text": [
            "No duplicate ID found\n"
          ]
        }
      ]
    },
    {
      "cell_type": "code",
      "source": [
        "# Sample data check\n",
        "cursor.execute('SELECT SUM(price) FROM books')\n",
        "db_sum = cursor.fetchone()[0]\n",
        "csv_sum = df['price'].sum()\n",
        "print(f'price sum: CSV={csv_sum}, DB{db_sum}')\n",
        "conn.close()\n",
        "print('Migration complete!')"
      ],
      "metadata": {
        "colab": {
          "base_uri": "https://localhost:8080/"
        },
        "id": "2ReQuC6sN5oS",
        "outputId": "e5df493b-3cd0-4bf5-a823-9ccdbb11f61c"
      },
      "id": "2ReQuC6sN5oS",
      "execution_count": null,
      "outputs": [
        {
          "output_type": "stream",
          "name": "stdout",
          "text": [
            "price sum: CSV=149.98, DB149.98\n",
            "Migration complete!\n"
          ]
        }
      ]
    }
  ],
  "metadata": {
    "kernelspec": {
      "display_name": "Python 3 (ipykernel)",
      "language": "python",
      "name": "python3"
    },
    "language_info": {
      "codemirror_mode": {
        "name": "ipython",
        "version": 3
      },
      "file_extension": ".py",
      "mimetype": "text/x-python",
      "name": "python",
      "nbconvert_exporter": "python",
      "pygments_lexer": "ipython3",
      "version": "3.10.18"
    },
    "colab": {
      "provenance": [],
      "toc_visible": true
    }
  },
  "nbformat": 4,
  "nbformat_minor": 5
}